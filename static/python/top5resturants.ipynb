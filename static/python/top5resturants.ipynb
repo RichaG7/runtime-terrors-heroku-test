{
 "cells": [
  {
   "cell_type": "code",
   "execution_count": 1,
   "metadata": {},
   "outputs": [],
   "source": [
    "import requests\n",
    "from bs4 import BeautifulSoup as bs\n",
    "import pandas as pd\n",
    "import time\n",
    "from splinter import Browser\n",
    "import pymongo"
   ]
  },
  {
   "cell_type": "markdown",
   "metadata": {},
   "source": [
    "# Dynamic/MongoDB"
   ]
  },
  {
   "cell_type": "code",
   "execution_count": 2,
   "metadata": {},
   "outputs": [],
   "source": [
    "# The default port used by MongoDB is 27017\n",
    "# https://docs.mongodb.com/manual/reference/default-mongodb-port/\n",
    "conn = 'mongodb://localhost:27017'\n",
    "client = pymongo.MongoClient(conn)\n",
    "\n",
    "# Define the 'pubDB' database in Mongo\n",
    "db = client.cityDB"
   ]
  },
  {
   "cell_type": "code",
   "execution_count": 3,
   "metadata": {},
   "outputs": [
    {
     "name": "stdout",
     "output_type": "stream",
     "text": [
      "1. Jacob’s Pickles\n",
      "2. Tanner Smiths\n",
      "3. Lillie’s Victorian Establishment\n",
      "4. BarBacon Hell’s Kitchen\n",
      "5. The Penrose\n"
     ]
    },
    {
     "name": "stderr",
     "output_type": "stream",
     "text": [
      "C:\\Users\\Marissa Laptop\\Anaconda3\\lib\\site-packages\\ipykernel_launcher.py:27: DeprecationWarning: insert is deprecated. Use insert_one or insert_many instead.\n"
     ]
    },
    {
     "name": "stdout",
     "output_type": "stream",
     "text": [
      "1. Lolita Cocina & Tequila Bar Back Bay\n",
      "2. Gaslight\n",
      "3. Eastern Standard Kitchen & Drinks\n",
      "4. The Salty Pig\n",
      "5. Parish Cafe and Bar\n",
      "1. Root Down\n",
      "2. Linger\n",
      "3. Steuben’s Uptown\n",
      "4. Cherry Cricket\n",
      "5. Viewhouse - Centennial\n",
      "1. Monk’s Cafe\n",
      "2. Village Whiskey\n",
      "3. Good Dog Bar\n",
      "4. Bud & Marilyn’s\n",
      "5. Khyber Pass Pub\n",
      "1. Wayfare Tavern\n",
      "2. Marlowe\n",
      "3. The Monk’s Kettle\n",
      "4. Hops & Hominy\n",
      "5. Magnolia Haight\n",
      "1. Commander’s Palace\n",
      "2. Coop’s Place\n",
      "3. District Donuts Sliders Brew\n",
      "4. SoBou\n",
      "5. Three Muses\n"
     ]
    }
   ],
   "source": [
    "cities = ['New_York_City','Boston', 'Denver', 'Philidelphia', 'San_Francisco', 'New_Orleans']\n",
    "executable_path1 = {'executable_path': 'geckodriver.exe'}\n",
    "browser = Browser('firefox', executable_path1, headless = False)\n",
    "results = {}\n",
    "\n",
    "for search_term in cities:\n",
    "    \n",
    "    pub_url = f'https://www.yelp.com/search?find_desc=Gastropubs&find_loc={search_term}&sortby=review_count'\n",
    "    browser.visit(pub_url)\n",
    "\n",
    "    html = browser.html\n",
    "    \n",
    "    url = requests.get(pub_url).text\n",
    "    soup = bs(url, 'html.parser')\n",
    "\n",
    "    ul_tag = soup.find('ul', class_='lemon--ul__373c0__1_cxs undefined list__373c0__2G8oH')\n",
    "    h4_tag = soup.find_all('h4')\n",
    "    #results = h4_tag\n",
    "    nyc_ul_tag = soup.find('ul', class_='lemon--ul__373c0__1_cxs undefined list__373c0__2G8oH')\n",
    "    nyc_h4_tag = soup.find_all('h4')\n",
    "    nyc_h4_tag\n",
    "    temp = []\n",
    "    for i in range(1,6):\n",
    "        print(nyc_h4_tag[i].text)\n",
    "        temp.append(nyc_h4_tag[i].text.replace('\\xa0','' ))\n",
    "        results[search_term] = temp\n",
    "    db.pubs.insert({search_term:temp})"
   ]
  },
  {
   "cell_type": "code",
   "execution_count": null,
   "metadata": {},
   "outputs": [],
   "source": []
  }
 ],
 "metadata": {
  "kernelspec": {
   "display_name": "Python 3",
   "language": "python",
   "name": "python3"
  },
  "language_info": {
   "codemirror_mode": {
    "name": "ipython",
    "version": 3
   },
   "file_extension": ".py",
   "mimetype": "text/x-python",
   "name": "python",
   "nbconvert_exporter": "python",
   "pygments_lexer": "ipython3",
   "version": "3.7.4"
  }
 },
 "nbformat": 4,
 "nbformat_minor": 2
}
